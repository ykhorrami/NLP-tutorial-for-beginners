{
 "cells": [
  {
   "cell_type": "markdown",
   "id": "9647317f",
   "metadata": {
    "papermill": {
     "duration": 0.005988,
     "end_time": "2024-03-31T21:02:48.068064",
     "exception": false,
     "start_time": "2024-03-31T21:02:48.062076",
     "status": "completed"
    },
    "tags": []
   },
   "source": [
    "# This is NLP tutorial for beginners\n",
    "We use the datasets from the \"UCI Machine Learning Repository\" by following address:\n",
    "https://archive.ics.uci.edu/dataset/331/sentiment+labelled+sentences"
   ]
  },
  {
   "cell_type": "markdown",
   "id": "9f8e722d",
   "metadata": {
    "execution": {
     "iopub.execute_input": "2024-03-31T20:38:06.009417Z",
     "iopub.status.busy": "2024-03-31T20:38:06.009031Z",
     "iopub.status.idle": "2024-03-31T20:38:06.014443Z",
     "shell.execute_reply": "2024-03-31T20:38:06.012655Z",
     "shell.execute_reply.started": "2024-03-31T20:38:06.009388Z"
    },
    "papermill": {
     "duration": 0.00464,
     "end_time": "2024-03-31T21:02:48.077801",
     "exception": false,
     "start_time": "2024-03-31T21:02:48.073161",
     "status": "completed"
    },
    "tags": []
   },
   "source": [
    "### Goal: Predicting the emotions of a sentence"
   ]
  },
  {
   "cell_type": "markdown",
   "id": "3a08c7ff",
   "metadata": {
    "execution": {
     "iopub.execute_input": "2024-03-31T20:30:10.107951Z",
     "iopub.status.busy": "2024-03-31T20:30:10.107360Z",
     "iopub.status.idle": "2024-03-31T20:30:10.117144Z",
     "shell.execute_reply": "2024-03-31T20:30:10.115151Z",
     "shell.execute_reply.started": "2024-03-31T20:30:10.107915Z"
    },
    "papermill": {
     "duration": 0.004679,
     "end_time": "2024-03-31T21:02:48.087353",
     "exception": false,
     "start_time": "2024-03-31T21:02:48.082674",
     "status": "completed"
    },
    "tags": []
   },
   "source": [
    "The dataset contains sentences labelled with positive or negative sentiment."
   ]
  },
  {
   "cell_type": "markdown",
   "id": "ad34603f",
   "metadata": {
    "papermill": {
     "duration": 0.00478,
     "end_time": "2024-03-31T21:02:48.097273",
     "exception": false,
     "start_time": "2024-03-31T21:02:48.092493",
     "status": "completed"
    },
    "tags": []
   },
   "source": [
    "Score is either 1 (for positive) or 0 (for negative)\t\n",
    "The sentences come from three different websites/fields:\n",
    "\n",
    "imdb.com\n",
    "amazon.com\n",
    "yelp.com\n",
    "\n",
    "For each website, there exist 500 positive and 500 negative sentences. Those were selected randomly for larger datasets of reviews. \n",
    "We attempted to select sentences that have a clearly positive or negative connotaton, the goal was for no neutral sentences to be selected.\n",
    "\n",
    "\n",
    "\n",
    "For the full datasets look:\n",
    "\n",
    "imdb: Maas et. al., 2011 'Learning word vectors for sentiment analysis'\n",
    "amazon: McAuley et. al., 2013 'Hidden factors and hidden topics: Understanding rating dimensions with review text'\n",
    "yelp: Yelp dataset challenge http://www.yelp.com/dataset_challenge\n"
   ]
  },
  {
   "cell_type": "code",
   "execution_count": 1,
   "id": "17e43864",
   "metadata": {
    "execution": {
     "iopub.execute_input": "2024-03-31T21:02:48.110468Z",
     "iopub.status.busy": "2024-03-31T21:02:48.109518Z",
     "iopub.status.idle": "2024-03-31T21:02:49.181570Z",
     "shell.execute_reply": "2024-03-31T21:02:49.180274Z"
    },
    "papermill": {
     "duration": 1.082277,
     "end_time": "2024-03-31T21:02:49.184553",
     "exception": false,
     "start_time": "2024-03-31T21:02:48.102276",
     "status": "completed"
    },
    "tags": []
   },
   "outputs": [
    {
     "data": {
      "text/html": [
       "<div>\n",
       "<style scoped>\n",
       "    .dataframe tbody tr th:only-of-type {\n",
       "        vertical-align: middle;\n",
       "    }\n",
       "\n",
       "    .dataframe tbody tr th {\n",
       "        vertical-align: top;\n",
       "    }\n",
       "\n",
       "    .dataframe thead th {\n",
       "        text-align: right;\n",
       "    }\n",
       "</style>\n",
       "<table border=\"1\" class=\"dataframe\">\n",
       "  <thead>\n",
       "    <tr style=\"text-align: right;\">\n",
       "      <th></th>\n",
       "      <th>sentence</th>\n",
       "      <th>label</th>\n",
       "      <th>source</th>\n",
       "    </tr>\n",
       "  </thead>\n",
       "  <tbody>\n",
       "    <tr>\n",
       "      <th>0</th>\n",
       "      <td>Wow... Loved this place.</td>\n",
       "      <td>1</td>\n",
       "      <td>yelp</td>\n",
       "    </tr>\n",
       "    <tr>\n",
       "      <th>1</th>\n",
       "      <td>Crust is not good.</td>\n",
       "      <td>0</td>\n",
       "      <td>yelp</td>\n",
       "    </tr>\n",
       "    <tr>\n",
       "      <th>2</th>\n",
       "      <td>Not tasty and the texture was just nasty.</td>\n",
       "      <td>0</td>\n",
       "      <td>yelp</td>\n",
       "    </tr>\n",
       "    <tr>\n",
       "      <th>3</th>\n",
       "      <td>Stopped by during the late May bank holiday of...</td>\n",
       "      <td>1</td>\n",
       "      <td>yelp</td>\n",
       "    </tr>\n",
       "    <tr>\n",
       "      <th>4</th>\n",
       "      <td>The selection on the menu was great and so wer...</td>\n",
       "      <td>1</td>\n",
       "      <td>yelp</td>\n",
       "    </tr>\n",
       "    <tr>\n",
       "      <th>...</th>\n",
       "      <td>...</td>\n",
       "      <td>...</td>\n",
       "      <td>...</td>\n",
       "    </tr>\n",
       "    <tr>\n",
       "      <th>743</th>\n",
       "      <td>I just got bored watching Jessice Lange take h...</td>\n",
       "      <td>0</td>\n",
       "      <td>imdb</td>\n",
       "    </tr>\n",
       "    <tr>\n",
       "      <th>744</th>\n",
       "      <td>Unfortunately, any virtue in this film's produ...</td>\n",
       "      <td>0</td>\n",
       "      <td>imdb</td>\n",
       "    </tr>\n",
       "    <tr>\n",
       "      <th>745</th>\n",
       "      <td>In a word, it is embarrassing.</td>\n",
       "      <td>0</td>\n",
       "      <td>imdb</td>\n",
       "    </tr>\n",
       "    <tr>\n",
       "      <th>746</th>\n",
       "      <td>Exceptionally bad!</td>\n",
       "      <td>0</td>\n",
       "      <td>imdb</td>\n",
       "    </tr>\n",
       "    <tr>\n",
       "      <th>747</th>\n",
       "      <td>All in all its an insult to one's intelligence...</td>\n",
       "      <td>0</td>\n",
       "      <td>imdb</td>\n",
       "    </tr>\n",
       "  </tbody>\n",
       "</table>\n",
       "<p>2748 rows × 3 columns</p>\n",
       "</div>"
      ],
      "text/plain": [
       "                                              sentence  label source\n",
       "0                             Wow... Loved this place.      1   yelp\n",
       "1                                   Crust is not good.      0   yelp\n",
       "2            Not tasty and the texture was just nasty.      0   yelp\n",
       "3    Stopped by during the late May bank holiday of...      1   yelp\n",
       "4    The selection on the menu was great and so wer...      1   yelp\n",
       "..                                                 ...    ...    ...\n",
       "743  I just got bored watching Jessice Lange take h...      0   imdb\n",
       "744  Unfortunately, any virtue in this film's produ...      0   imdb\n",
       "745                   In a word, it is embarrassing.        0   imdb\n",
       "746                               Exceptionally bad!        0   imdb\n",
       "747  All in all its an insult to one's intelligence...      0   imdb\n",
       "\n",
       "[2748 rows x 3 columns]"
      ]
     },
     "execution_count": 1,
     "metadata": {},
     "output_type": "execute_result"
    }
   ],
   "source": [
    "import pandas as pd\n",
    "\n",
    "filepath_dict = {'yelp':   '/kaggle/input/sentiment-labelled-sentences/yelp_labelled.txt',\n",
    "                 'amazon': '/kaggle/input/sentiment-labelled-sentences/amazon_cells_labelled.txt',\n",
    "                 'imdb':   '/kaggle/input/sentiment-labelled-sentences/imdb_labelled.txt'}\n",
    "\n",
    "df_list = []\n",
    "for source, filepath in filepath_dict.items():\n",
    "    df = pd.read_csv(filepath, names=['sentence', 'label'], sep='\\t')\n",
    "    df['source'] = source  # Add another column filled with the source name\n",
    "    df_list.append(df)\n",
    "\n",
    "df = pd.concat(df_list)\n",
    "df"
   ]
  },
  {
   "cell_type": "code",
   "execution_count": 2,
   "id": "ca43358f",
   "metadata": {
    "execution": {
     "iopub.execute_input": "2024-03-31T21:02:49.198695Z",
     "iopub.status.busy": "2024-03-31T21:02:49.197853Z",
     "iopub.status.idle": "2024-03-31T21:02:50.572842Z",
     "shell.execute_reply": "2024-03-31T21:02:50.571853Z"
    },
    "papermill": {
     "duration": 1.385558,
     "end_time": "2024-03-31T21:02:50.575889",
     "exception": false,
     "start_time": "2024-03-31T21:02:49.190331",
     "status": "completed"
    },
    "tags": []
   },
   "outputs": [],
   "source": [
    "from sklearn.feature_extraction.text import CountVectorizer\n",
    "\n",
    "vectorizer = CountVectorizer(min_df=0, lowercase=False)"
   ]
  },
  {
   "cell_type": "code",
   "execution_count": 3,
   "id": "a9acedce",
   "metadata": {
    "execution": {
     "iopub.execute_input": "2024-03-31T21:02:50.588177Z",
     "iopub.status.busy": "2024-03-31T21:02:50.587810Z",
     "iopub.status.idle": "2024-03-31T21:02:50.592605Z",
     "shell.execute_reply": "2024-03-31T21:02:50.591591Z"
    },
    "papermill": {
     "duration": 0.013569,
     "end_time": "2024-03-31T21:02:50.594741",
     "exception": false,
     "start_time": "2024-03-31T21:02:50.581172",
     "status": "completed"
    },
    "tags": []
   },
   "outputs": [],
   "source": [
    "sentences = ['John likes ice cream', 'John hates chocolate.']"
   ]
  },
  {
   "cell_type": "code",
   "execution_count": 4,
   "id": "81b0ec29",
   "metadata": {
    "execution": {
     "iopub.execute_input": "2024-03-31T21:02:50.606030Z",
     "iopub.status.busy": "2024-03-31T21:02:50.605687Z",
     "iopub.status.idle": "2024-03-31T21:02:50.625077Z",
     "shell.execute_reply": "2024-03-31T21:02:50.623741Z"
    },
    "papermill": {
     "duration": 0.027886,
     "end_time": "2024-03-31T21:02:50.627581",
     "exception": false,
     "start_time": "2024-03-31T21:02:50.599695",
     "status": "completed"
    },
    "tags": []
   },
   "outputs": [
    {
     "data": {
      "text/plain": [
       "{'John': 0, 'chocolate': 1, 'cream': 2, 'hates': 3, 'ice': 4, 'likes': 5}"
      ]
     },
     "execution_count": 4,
     "metadata": {},
     "output_type": "execute_result"
    }
   ],
   "source": [
    "vectorizer.fit(sentences)\n",
    "vectorizer.vocabulary_\n",
    "{'John': 0, 'chocolate': 1, 'cream': 2, 'hates': 3, 'ice': 4, 'likes': 5}"
   ]
  },
  {
   "cell_type": "code",
   "execution_count": 5,
   "id": "e4625c43",
   "metadata": {
    "execution": {
     "iopub.execute_input": "2024-03-31T21:02:50.639874Z",
     "iopub.status.busy": "2024-03-31T21:02:50.639130Z",
     "iopub.status.idle": "2024-03-31T21:02:50.648107Z",
     "shell.execute_reply": "2024-03-31T21:02:50.646863Z"
    },
    "papermill": {
     "duration": 0.01743,
     "end_time": "2024-03-31T21:02:50.650351",
     "exception": false,
     "start_time": "2024-03-31T21:02:50.632921",
     "status": "completed"
    },
    "tags": []
   },
   "outputs": [
    {
     "data": {
      "text/plain": [
       "array([[1, 0, 1, 0, 1, 1],\n",
       "       [1, 1, 0, 1, 0, 0]])"
      ]
     },
     "execution_count": 5,
     "metadata": {},
     "output_type": "execute_result"
    }
   ],
   "source": [
    "vectorizer.transform(sentences).toarray()"
   ]
  },
  {
   "cell_type": "code",
   "execution_count": 6,
   "id": "6cde72b8",
   "metadata": {
    "execution": {
     "iopub.execute_input": "2024-03-31T21:02:50.662519Z",
     "iopub.status.busy": "2024-03-31T21:02:50.661894Z",
     "iopub.status.idle": "2024-03-31T21:02:50.774862Z",
     "shell.execute_reply": "2024-03-31T21:02:50.773636Z"
    },
    "papermill": {
     "duration": 0.12227,
     "end_time": "2024-03-31T21:02:50.777838",
     "exception": false,
     "start_time": "2024-03-31T21:02:50.655568",
     "status": "completed"
    },
    "tags": []
   },
   "outputs": [],
   "source": [
    "from sklearn.model_selection import train_test_split\n",
    "\n",
    "df_yelp = df[df['source'] == 'yelp']\n",
    "\n",
    "sentences = df_yelp['sentence'].values\n",
    "y = df_yelp['label'].values\n",
    "\n",
    "sentences_train, sentences_test, y_train, y_test = train_test_split(sentences, y, test_size=0.25, random_state=1000)"
   ]
  },
  {
   "cell_type": "code",
   "execution_count": 7,
   "id": "2bca2dfc",
   "metadata": {
    "execution": {
     "iopub.execute_input": "2024-03-31T21:02:50.791707Z",
     "iopub.status.busy": "2024-03-31T21:02:50.791004Z",
     "iopub.status.idle": "2024-03-31T21:02:50.835163Z",
     "shell.execute_reply": "2024-03-31T21:02:50.834261Z"
    },
    "papermill": {
     "duration": 0.05454,
     "end_time": "2024-03-31T21:02:50.838037",
     "exception": false,
     "start_time": "2024-03-31T21:02:50.783497",
     "status": "completed"
    },
    "tags": []
   },
   "outputs": [
    {
     "data": {
      "text/plain": [
       "<750x1714 sparse matrix of type '<class 'numpy.int64'>'\n",
       "\twith 7368 stored elements in Compressed Sparse Row format>"
      ]
     },
     "execution_count": 7,
     "metadata": {},
     "output_type": "execute_result"
    }
   ],
   "source": [
    "from sklearn.feature_extraction.text import CountVectorizer\n",
    "\n",
    "vectorizer = CountVectorizer()\n",
    "vectorizer.fit(sentences_train)\n",
    "\n",
    "X_train = vectorizer.transform(sentences_train)\n",
    "X_test  = vectorizer.transform(sentences_test)\n",
    "X_train"
   ]
  },
  {
   "cell_type": "code",
   "execution_count": 8,
   "id": "a343d912",
   "metadata": {
    "execution": {
     "iopub.execute_input": "2024-03-31T21:02:50.851738Z",
     "iopub.status.busy": "2024-03-31T21:02:50.851385Z",
     "iopub.status.idle": "2024-03-31T21:02:50.996656Z",
     "shell.execute_reply": "2024-03-31T21:02:50.995252Z"
    },
    "papermill": {
     "duration": 0.155529,
     "end_time": "2024-03-31T21:02:50.999509",
     "exception": false,
     "start_time": "2024-03-31T21:02:50.843980",
     "status": "completed"
    },
    "tags": []
   },
   "outputs": [
    {
     "name": "stdout",
     "output_type": "stream",
     "text": [
      "Accuracy: 0.796\n"
     ]
    }
   ],
   "source": [
    "from sklearn.linear_model import LogisticRegression\n",
    "\n",
    "classifier = LogisticRegression()\n",
    "classifier.fit(X_train, y_train)\n",
    "score = classifier.score(X_test, y_test)\n",
    "\n",
    "print(\"Accuracy:\", score)"
   ]
  },
  {
   "cell_type": "code",
   "execution_count": 9,
   "id": "1138947a",
   "metadata": {
    "execution": {
     "iopub.execute_input": "2024-03-31T21:02:51.013555Z",
     "iopub.status.busy": "2024-03-31T21:02:51.013183Z",
     "iopub.status.idle": "2024-03-31T21:02:51.324643Z",
     "shell.execute_reply": "2024-03-31T21:02:51.323298Z"
    },
    "papermill": {
     "duration": 0.321862,
     "end_time": "2024-03-31T21:02:51.327220",
     "exception": false,
     "start_time": "2024-03-31T21:02:51.005358",
     "status": "completed"
    },
    "tags": []
   },
   "outputs": [
    {
     "name": "stdout",
     "output_type": "stream",
     "text": [
      "Accuracy for yelp data: 0.7960\n",
      "Accuracy for amazon data: 0.7960\n",
      "Accuracy for imdb data: 0.7487\n"
     ]
    }
   ],
   "source": [
    "for source in df['source'].unique():\n",
    "    df_source = df[df['source'] == source]\n",
    "    sentences = df_source['sentence'].values\n",
    "    y = df_source['label'].values\n",
    "\n",
    "    sentences_train, sentences_test, y_train, y_test = train_test_split(\n",
    "        sentences, y, test_size=0.25, random_state=1000)\n",
    "\n",
    "    vectorizer = CountVectorizer()\n",
    "    vectorizer.fit(sentences_train)\n",
    "    X_train = vectorizer.transform(sentences_train)\n",
    "    X_test  = vectorizer.transform(sentences_test)\n",
    "\n",
    "    classifier = LogisticRegression()\n",
    "    classifier.fit(X_train, y_train)\n",
    "    score = classifier.score(X_test, y_test)\n",
    "    print('Accuracy for {} data: {:.4f}'.format(source, score))"
   ]
  }
 ],
 "metadata": {
  "kaggle": {
   "accelerator": "none",
   "dataSources": [
    {
     "datasetId": 4705490,
     "sourceId": 7992662,
     "sourceType": "datasetVersion"
    }
   ],
   "dockerImageVersionId": 30673,
   "isGpuEnabled": false,
   "isInternetEnabled": true,
   "language": "python",
   "sourceType": "notebook"
  },
  "kernelspec": {
   "display_name": "Python 3",
   "language": "python",
   "name": "python3"
  },
  "language_info": {
   "codemirror_mode": {
    "name": "ipython",
    "version": 3
   },
   "file_extension": ".py",
   "mimetype": "text/x-python",
   "name": "python",
   "nbconvert_exporter": "python",
   "pygments_lexer": "ipython3",
   "version": "3.10.13"
  },
  "papermill": {
   "default_parameters": {},
   "duration": 7.523824,
   "end_time": "2024-03-31T21:02:51.957924",
   "environment_variables": {},
   "exception": null,
   "input_path": "__notebook__.ipynb",
   "output_path": "__notebook__.ipynb",
   "parameters": {},
   "start_time": "2024-03-31T21:02:44.434100",
   "version": "2.5.0"
  }
 },
 "nbformat": 4,
 "nbformat_minor": 5
}
